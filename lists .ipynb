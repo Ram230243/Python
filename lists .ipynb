{
 "cells": [
  {
   "cell_type": "markdown",
   "id": "ddb005f3-25bd-4149-8cb6-8893a165ec04",
   "metadata": {},
   "source": [
    "list\n",
    "A list is a collection of ordered, mutable (changeable) elements, which can be of any data type such as numbers, strings, or other objects. Lists are a fundamental data structure in programming, particularly in languages like Python. examples:\n",
    "\n",
    "a=[1,2,3,]\n",
    "b=[1,2,3,ram,sravani] \n",
    "_A=[456,22,'ram','Youth']\n",
    "Ram= [1,1,2,2,3,3,4,4,5\n",
    "you=[58,45,]\n",
    "\n",
    "\n",
    "types of list\n",
    "append() Adds an element at the end of the list \n",
    "clear() Removes all the elements from the list \n",
    "copy() Returns a copy of the list \n",
    "count() Returns the number of elements with the specified value \n",
    "extend() Add the elements of a list (or any iterable), to the end of the current list \n",
    "index() Returns the index of the first element with the specified value \n",
    "insert() Adds an element at the specified position\n",
    "pop() Removes the element at the specified position \n",
    "remove() Removes the item with the specified value\n",
    "reverse() Reverses the order of the list \n",
    "sort() Sorts the list\n"
   ]
  },
  {
   "cell_type": "markdown",
   "id": "ec769c0f-1c6f-42f1-bfc7-d0dbc6820187",
   "metadata": {},
   "source": [
    "ACCESING THE ELEMENTS\n"
   ]
  },
  {
   "cell_type": "code",
   "execution_count": 30,
   "id": "7cfc4052-d8fe-479b-8b9c-7906563def75",
   "metadata": {},
   "outputs": [
    {
     "data": {
      "text/plain": [
       "4"
      ]
     },
     "execution_count": 30,
     "metadata": {},
     "output_type": "execute_result"
    }
   ],
   "source": [
    "a=[1,2,3,4,5]\n",
    "a[3]"
   ]
  },
  {
   "cell_type": "code",
   "execution_count": 32,
   "id": "017b756a-b545-47c8-bb6e-714c79cfa47e",
   "metadata": {},
   "outputs": [
    {
     "data": {
      "text/plain": [
       "7"
      ]
     },
     "execution_count": 32,
     "metadata": {},
     "output_type": "execute_result"
    }
   ],
   "source": [
    "a=[1,2,2,5,8,7,9,]\n",
    "a[5]"
   ]
  },
  {
   "cell_type": "code",
   "execution_count": 36,
   "id": "4b083149-7a0f-47b3-abd5-c1bd520a9bf1",
   "metadata": {},
   "outputs": [
    {
     "data": {
      "text/plain": [
       "7"
      ]
     },
     "execution_count": 36,
     "metadata": {},
     "output_type": "execute_result"
    }
   ],
   "source": [
    "b=[8,5,6,7,9,7,8,]\n",
    "b[3]"
   ]
  },
  {
   "cell_type": "code",
   "execution_count": 40,
   "id": "018c23b6-0e0e-49a5-92ed-604ff9c3ef8c",
   "metadata": {},
   "outputs": [
    {
     "data": {
      "text/plain": [
       "'f'"
      ]
     },
     "execution_count": 40,
     "metadata": {},
     "output_type": "execute_result"
    }
   ],
   "source": [
    "a=['a','s','d','f','g','h',]\n",
    "a[3]"
   ]
  },
  {
   "cell_type": "code",
   "execution_count": 42,
   "id": "95a5f0d9-e331-4f30-a414-e31b77a497ce",
   "metadata": {},
   "outputs": [
    {
     "data": {
      "text/plain": [
       "'mango'"
      ]
     },
     "execution_count": 42,
     "metadata": {},
     "output_type": "execute_result"
    }
   ],
   "source": [
    "a=['apple','banana','mango']\n",
    "a[2]"
   ]
  },
  {
   "cell_type": "code",
   "execution_count": 44,
   "id": "701e7d8b-331f-4417-a324-adf832c4576a",
   "metadata": {},
   "outputs": [
    {
     "data": {
      "text/plain": [
       "'chinnu'"
      ]
     },
     "execution_count": 44,
     "metadata": {},
     "output_type": "execute_result"
    }
   ],
   "source": [
    "a=[1,2,3,'sravani','ram','chinnu']\n",
    "a[5]"
   ]
  },
  {
   "cell_type": "code",
   "execution_count": null,
   "id": "67744804-a604-4fae-93a9-71336c868892",
   "metadata": {},
   "outputs": [],
   "source": [
    "SLICING"
   ]
  },
  {
   "cell_type": "code",
   "execution_count": 46,
   "id": "4b284ee9-44d4-405b-a196-24f9ba2db83c",
   "metadata": {},
   "outputs": [
    {
     "data": {
      "text/plain": [
       "[2, 2, 2, 3, 3, 4]"
      ]
     },
     "execution_count": 46,
     "metadata": {},
     "output_type": "execute_result"
    }
   ],
   "source": [
    "a=[1,2,2,2,2,3,3,4,5,6,]\n",
    "a[2:8]"
   ]
  },
  {
   "cell_type": "code",
   "execution_count": 48,
   "id": "2aff3f74-7b90-4fce-9628-c89506356ff1",
   "metadata": {},
   "outputs": [
    {
     "data": {
      "text/plain": [
       "['d', 'f', 'g', 'h', 'j', 'k']"
      ]
     },
     "execution_count": 48,
     "metadata": {},
     "output_type": "execute_result"
    }
   ],
   "source": [
    "a=['a','s','d','f','g','h','j','k','l']\n",
    "a[2:8]"
   ]
  },
  {
   "cell_type": "code",
   "execution_count": 56,
   "id": "a1b12781-8ddb-4f95-811b-9078b63b4e65",
   "metadata": {},
   "outputs": [
    {
     "data": {
      "text/plain": [
       "[2, 3, 4, 'q', 'w']"
      ]
     },
     "execution_count": 56,
     "metadata": {},
     "output_type": "execute_result"
    }
   ],
   "source": [
    "a=[1,2,3,4,'q','w','e']\n",
    "a[1:6]"
   ]
  },
  {
   "cell_type": "code",
   "execution_count": 58,
   "id": "f9b70568-83f2-4448-8167-f21178a8b451",
   "metadata": {},
   "outputs": [
    {
     "data": {
      "text/plain": [
       "['banana', 'apple']"
      ]
     },
     "execution_count": 58,
     "metadata": {},
     "output_type": "execute_result"
    }
   ],
   "source": [
    "a=['banana','apple','biryani']\n",
    "a[0:2]"
   ]
  },
  {
   "cell_type": "code",
   "execution_count": 60,
   "id": "adaa0612-e539-4abb-a9b9-7f25180d111f",
   "metadata": {},
   "outputs": [
    {
     "data": {
      "text/plain": [
       "[1, 'w', 2, 'e', 'ram', 'sai', 'sravani']"
      ]
     },
     "execution_count": 60,
     "metadata": {},
     "output_type": "execute_result"
    }
   ],
   "source": [
    "a=[1,'w',2,'e','ram','sai','sravani']\n",
    "a[0:7]"
   ]
  },
  {
   "cell_type": "code",
   "execution_count": null,
   "id": "e67a11a6-1329-4195-a6f2-a660c659c192",
   "metadata": {},
   "outputs": [],
   "source": [
    "list methods\n",
    "\n",
    "\n",
    "append"
   ]
  },
  {
   "cell_type": "code",
   "execution_count": 76,
   "id": "e0bf7ae3-51ac-4c14-af9c-98d24c01375d",
   "metadata": {},
   "outputs": [
    {
     "name": "stdout",
     "output_type": "stream",
     "text": [
      "[11, 22, 33, 44, 55, 99]\n"
     ]
    }
   ],
   "source": [
    "a=[11,22,33,44,55,]\n",
    "a.append(99)\n",
    "print(a)"
   ]
  },
  {
   "cell_type": "code",
   "execution_count": 80,
   "id": "e3dca9a2-b55a-4c0c-bf29-8a391a71b427",
   "metadata": {},
   "outputs": [
    {
     "data": {
      "text/plain": [
       "[11, 22, 33, 44, 55, 99, 'ram']"
      ]
     },
     "execution_count": 80,
     "metadata": {},
     "output_type": "execute_result"
    }
   ],
   "source": [
    "a.append('ram')\n",
    "a"
   ]
  },
  {
   "cell_type": "code",
   "execution_count": 92,
   "id": "2775f798-cf08-4c07-be57-c3a0b66baa71",
   "metadata": {},
   "outputs": [
    {
     "data": {
      "text/plain": [
       "[11, 22, 33, 44, 55, 99, 'ram', (34+9j), (34+9j), (34+9j), (34+9j), 34.5]"
      ]
     },
     "execution_count": 92,
     "metadata": {},
     "output_type": "execute_result"
    }
   ],
   "source": [
    "a.append(34.5)\n",
    "a"
   ]
  },
  {
   "cell_type": "code",
   "execution_count": 88,
   "id": "1810c469-90f6-48a6-99b4-67be2f3fa8ad",
   "metadata": {},
   "outputs": [
    {
     "data": {
      "text/plain": [
       "[11, 22, 33, 44, 55, 99, 'ram', (34+9j), (34+9j), (34+9j), (34+9j)]"
      ]
     },
     "execution_count": 88,
     "metadata": {},
     "output_type": "execute_result"
    }
   ],
   "source": [
    "a.append(34+9j)\n",
    "a"
   ]
  },
  {
   "cell_type": "code",
   "execution_count": null,
   "id": "a2d083b7-3a1c-4c18-931f-455a7b8d61b4",
   "metadata": {},
   "outputs": [],
   "source": [
    "extend"
   ]
  },
  {
   "cell_type": "code",
   "execution_count": 122,
   "id": "fda038d1-606c-4c9d-9bb3-4db24d784b72",
   "metadata": {},
   "outputs": [
    {
     "data": {
      "text/plain": [
       "[44, 55, 77, 12, 34, 'r', 'a', 'rr']"
      ]
     },
     "execution_count": 122,
     "metadata": {},
     "output_type": "execute_result"
    }
   ],
   "source": [
    "b=['r','a','rr']\n",
    "a.extend(b)\n",
    "a"
   ]
  },
  {
   "cell_type": "code",
   "execution_count": 124,
   "id": "91209972-85c4-45c1-a1d2-bebc93be9c76",
   "metadata": {},
   "outputs": [
    {
     "data": {
      "text/plain": [
       "[44, 55, 77, 12, 34, 'r', 'a', 'rr', 7.5, 'Ram']"
      ]
     },
     "execution_count": 124,
     "metadata": {},
     "output_type": "execute_result"
    }
   ],
   "source": [
    "b=7.5,'Ram',\n",
    "a.extend(b)\n",
    "a"
   ]
  },
  {
   "cell_type": "code",
   "execution_count": 136,
   "id": "18be6092-0c42-4708-91ba-0e99a3a0f48a",
   "metadata": {},
   "outputs": [
    {
     "data": {
      "text/plain": [
       "[44, 55, 77, 12, 34, 'r', 'a', 'rr', 7.5, 'Ram', (8+8j), 'sai']"
      ]
     },
     "execution_count": 136,
     "metadata": {},
     "output_type": "execute_result"
    }
   ],
   "source": [
    "b=[8+8j,'sai']\n",
    "a.extend(b)\n",
    "a"
   ]
  },
  {
   "cell_type": "code",
   "execution_count": 142,
   "id": "d0b4fede-dc40-4186-98c4-84cf7964549f",
   "metadata": {},
   "outputs": [
    {
     "data": {
      "text/plain": [
       "[44, 55, 77, 12, 34, 'r', 'a', 'rr', 7.5, 'Ram', (8+8j)]"
      ]
     },
     "execution_count": 142,
     "metadata": {},
     "output_type": "execute_result"
    }
   ],
   "source": [
    "#pop\n",
    "a.pop()\n",
    "a"
   ]
  },
  {
   "cell_type": "code",
   "execution_count": 144,
   "id": "5c40c9f0-bb3a-43ec-b91b-4f54cc674fe4",
   "metadata": {},
   "outputs": [
    {
     "data": {
      "text/plain": [
       "[44, 55, 77, 34, 'r', 'a', 'rr', 7.5, 'Ram', (8+8j)]"
      ]
     },
     "execution_count": 144,
     "metadata": {},
     "output_type": "execute_result"
    }
   ],
   "source": [
    "a.pop(3)\n",
    "a"
   ]
  },
  {
   "cell_type": "code",
   "execution_count": 146,
   "id": "5c088f72-c90b-4244-b247-68dcb9ed92f2",
   "metadata": {},
   "outputs": [
    {
     "data": {
      "text/plain": [
       "[44, 55, 77, 34, 'r', 'a', 7.5, 'Ram', (8+8j)]"
      ]
     },
     "execution_count": 146,
     "metadata": {},
     "output_type": "execute_result"
    }
   ],
   "source": [
    "a.pop(-4)\n",
    "a"
   ]
  },
  {
   "cell_type": "code",
   "execution_count": 152,
   "id": "ec5e0d2a-77fb-40dd-9a1b-3f575b63a237",
   "metadata": {},
   "outputs": [
    {
     "data": {
      "text/plain": [
       "[44, 55, 77, 34, 'r', 'a', 7.5]"
      ]
     },
     "execution_count": 152,
     "metadata": {},
     "output_type": "execute_result"
    }
   ],
   "source": [
    "a.pop(7)\n",
    "a"
   ]
  },
  {
   "cell_type": "markdown",
   "id": "4652ab5a-3a36-419b-9bc1-c760b7073416",
   "metadata": {},
   "source": [
    "COUNT"
   ]
  },
  {
   "cell_type": "code",
   "execution_count": 174,
   "id": "2f9c0aa9-4692-42a1-ad71-572fadd4c04b",
   "metadata": {},
   "outputs": [
    {
     "data": {
      "text/plain": [
       "1"
      ]
     },
     "execution_count": 174,
     "metadata": {},
     "output_type": "execute_result"
    }
   ],
   "source": [
    "a=[7,8,9,4,5,6,2,7,5,'p','s',7+8j]\n",
    "a.count(4)\n"
   ]
  },
  {
   "cell_type": "code",
   "execution_count": 180,
   "id": "c8185b58-57d1-4e2a-86ce-97cb19e633bc",
   "metadata": {},
   "outputs": [
    {
     "data": {
      "text/plain": [
       "2"
      ]
     },
     "execution_count": 180,
     "metadata": {},
     "output_type": "execute_result"
    }
   ],
   "source": [
    "a=['s','w','f','t','w','r']\n",
    "a.count('w')"
   ]
  },
  {
   "cell_type": "code",
   "execution_count": 182,
   "id": "b9aa0b20-df9a-4a79-8c8d-14375214f4da",
   "metadata": {},
   "outputs": [
    {
     "data": {
      "text/plain": [
       "2"
      ]
     },
     "execution_count": 182,
     "metadata": {},
     "output_type": "execute_result"
    }
   ],
   "source": [
    "a=['sai','ram','lalith','datta','sai']\n",
    "a.count('sai')"
   ]
  },
  {
   "cell_type": "code",
   "execution_count": 184,
   "id": "fb1f8a77-b97e-47fe-8630-29e0eb1e6a40",
   "metadata": {},
   "outputs": [
    {
     "data": {
      "text/plain": [
       "2"
      ]
     },
     "execution_count": 184,
     "metadata": {},
     "output_type": "execute_result"
    }
   ],
   "source": [
    "a=2+8j,8+9j,2+8j\n",
    "a.count(2+8j)"
   ]
  },
  {
   "cell_type": "code",
   "execution_count": null,
   "id": "fb532ae1-f538-4bbc-a468-55b13ca12b67",
   "metadata": {},
   "outputs": [],
   "source": []
  }
 ],
 "metadata": {
  "kernelspec": {
   "display_name": "Python 3 (ipykernel)",
   "language": "python",
   "name": "python3"
  },
  "language_info": {
   "codemirror_mode": {
    "name": "ipython",
    "version": 3
   },
   "file_extension": ".py",
   "mimetype": "text/x-python",
   "name": "python",
   "nbconvert_exporter": "python",
   "pygments_lexer": "ipython3",
   "version": "3.12.7"
  }
 },
 "nbformat": 4,
 "nbformat_minor": 5
}
