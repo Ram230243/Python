{
 "cells": [
  {
   "cell_type": "markdown",
   "id": "ebd27279-ceb0-4512-b8ad-63421a3347d5",
   "metadata": {},
   "source": [
    "INTEGER\n",
    "In Python, an integer (int) is a whole number, positive, negative, or zero, without decimals. It supports arithmetic operations and can grow to arbitrary sizes based on available memory.\n",
    "\n",
    "FLOAT\n",
    "In Python, a float is a data type representing numbers with decimal points. It can represent real numbers, including positive, negative, and fractional values, and supports arithmetic operations like integers.\n",
    "\n",
    "COMPLEX\n",
    "In Python, a complex number is represented by a real and an imaginary part, written as a + bj, where a is the real part, and b is the imaginary part.\n",
    "\n",
    "BOOLEAN\n",
    "In Python, a boolean (bool) represents truth values: True or False. It's used for logical operations and comparisons, often controlling program flow through conditional statements like if and while.\n"
   ]
  },
  {
   "cell_type": "code",
   "execution_count": 1,
   "id": "b0ee2cef-38f0-4c5c-aac5-3952c54bb0e0",
   "metadata": {},
   "outputs": [
    {
     "name": "stdout",
     "output_type": "stream",
     "text": [
      "<class 'int'>\n"
     ]
    }
   ],
   "source": [
    "#integrs\n",
    "a=98\n",
    "print(type(a))\n"
   ]
  },
  {
   "cell_type": "code",
   "execution_count": 3,
   "id": "3f931043-bad6-4c0c-88c3-7b614cfdde89",
   "metadata": {},
   "outputs": [
    {
     "name": "stdout",
     "output_type": "stream",
     "text": [
      "<class 'int'>\n"
     ]
    }
   ],
   "source": [
    " b=96\n",
    "print(type(b))"
   ]
  },
  {
   "cell_type": "code",
   "execution_count": 5,
   "id": "19b6e70a-7c40-47ee-b76f-38dfd47c95ad",
   "metadata": {},
   "outputs": [
    {
     "name": "stdout",
     "output_type": "stream",
     "text": [
      "<class 'int'>\n"
     ]
    }
   ],
   "source": [
    "c=25\n",
    "print(type(c))"
   ]
  },
  {
   "cell_type": "code",
   "execution_count": 9,
   "id": "74bc8e45-5d6c-44f8-8580-918cddbcbbe6",
   "metadata": {},
   "outputs": [
    {
     "name": "stdout",
     "output_type": "stream",
     "text": [
      "<class 'int'>\n",
      "88\n"
     ]
    }
   ],
   "source": [
    "a=25\n",
    "b=63\n",
    "c=a+b\n",
    "print(type(c))\n",
    "print(c)"
   ]
  },
  {
   "cell_type": "code",
   "execution_count": 11,
   "id": "439d8602-3421-4e10-bc13-5f1a0f21c671",
   "metadata": {},
   "outputs": [
    {
     "name": "stdout",
     "output_type": "stream",
     "text": [
      "0\n",
      "<class 'int'>\n"
     ]
    }
   ],
   "source": [
    "a=2\n",
    "b=4\n",
    "c=6\n",
    "d=a+b-c\n",
    "print(d)\n",
    "print(type(d))"
   ]
  },
  {
   "cell_type": "code",
   "execution_count": 15,
   "id": "20cf4177-27dd-4a1a-bd82-cd5fbaa05745",
   "metadata": {},
   "outputs": [
    {
     "name": "stdout",
     "output_type": "stream",
     "text": [
      "24\n",
      "<class 'int'>\n"
     ]
    }
   ],
   "source": [
    "a=8\n",
    "b=3\n",
    "c=a*b\n",
    "print(c)\n",
    "print(type(c))"
   ]
  },
  {
   "cell_type": "code",
   "execution_count": 21,
   "id": "eefcd4db-af3f-4614-9c73-922014a90514",
   "metadata": {},
   "outputs": [
    {
     "name": "stdout",
     "output_type": "stream",
     "text": [
      "9\n",
      "<class 'int'>\n"
     ]
    }
   ],
   "source": [
    "a=45\n",
    "b=5\n",
    "c=a//b\n",
    "print(c)\n",
    "print(type(c))"
   ]
  },
  {
   "cell_type": "code",
   "execution_count": 23,
   "id": "63f396a3-216a-4b43-87fb-d22a58553e81",
   "metadata": {},
   "outputs": [
    {
     "name": "stdout",
     "output_type": "stream",
     "text": [
      "-22\n",
      "<class 'int'>\n"
     ]
    }
   ],
   "source": [
    "a=22\n",
    "b=44\n",
    "c=a-b\n",
    "print(c)\n",
    "print(type(c))"
   ]
  },
  {
   "cell_type": "code",
   "execution_count": 25,
   "id": "6f3f74ed-6e00-472c-b5e1-e434a9cfb1bd",
   "metadata": {},
   "outputs": [
    {
     "name": "stdout",
     "output_type": "stream",
     "text": [
      "3.5\n",
      "<class 'float'>\n"
     ]
    }
   ],
   "source": [
    "#float \n",
    "a=2.0\n",
    "b=1.5\n",
    "c=a+b\n",
    "print(c)\n",
    "print(type(c))"
   ]
  },
  {
   "cell_type": "code",
   "execution_count": 29,
   "id": "e9b91985-a910-47bf-a629-7eaad79fd812",
   "metadata": {},
   "outputs": [
    {
     "name": "stdout",
     "output_type": "stream",
     "text": [
      "14.9\n",
      "<class 'float'>\n"
     ]
    }
   ],
   "source": [
    "a=6.5\n",
    "b=8.4\n",
    "c=a+b\n",
    "print(c)\n",
    "print(type(c))"
   ]
  },
  {
   "cell_type": "code",
   "execution_count": 33,
   "id": "08a87cae-486b-4e41-b055-1730e4338cfe",
   "metadata": {},
   "outputs": [
    {
     "name": "stdout",
     "output_type": "stream",
     "text": [
      "-0.7999999999999989\n",
      "<class 'float'>\n"
     ]
    }
   ],
   "source": [
    "a=8.8\n",
    "b=9.6\n",
    "c=a-b\n",
    "print(c)\n",
    "print(type(c))"
   ]
  },
  {
   "cell_type": "code",
   "execution_count": 35,
   "id": "719ec37c-430a-4d11-88f0-22c94d4f96c0",
   "metadata": {},
   "outputs": [
    {
     "name": "stdout",
     "output_type": "stream",
     "text": [
      "<class 'float'>\n"
     ]
    }
   ],
   "source": [
    "a=6.6\n",
    "print(type(a))"
   ]
  },
  {
   "cell_type": "code",
   "execution_count": 37,
   "id": "3198916b-58da-4a91-b296-14ea638f4eac",
   "metadata": {},
   "outputs": [
    {
     "name": "stdout",
     "output_type": "stream",
     "text": [
      "<class 'float'>\n"
     ]
    }
   ],
   "source": [
    "b=3.3\n",
    "print(type(b))"
   ]
  },
  {
   "cell_type": "code",
   "execution_count": 39,
   "id": "d28f62be-3005-489f-b724-ce77d0389b0f",
   "metadata": {},
   "outputs": [
    {
     "name": "stdout",
     "output_type": "stream",
     "text": [
      "4.3\n",
      "<class 'float'>\n"
     ]
    }
   ],
   "source": [
    "a=6.6\n",
    "b=2.3\n",
    "c=a-b\n",
    "print(c)\n",
    "print(type(c))"
   ]
  },
  {
   "cell_type": "code",
   "execution_count": 41,
   "id": "efcb95c7-147c-4265-9896-ac8594f7e43a",
   "metadata": {},
   "outputs": [
    {
     "name": "stdout",
     "output_type": "stream",
     "text": [
      "14.5\n",
      "<class 'float'>\n"
     ]
    }
   ],
   "source": [
    "a=6.0\n",
    "b=8.5\n",
    "c=a+b\n",
    "print(c)\n",
    "print(type(c))"
   ]
  },
  {
   "cell_type": "code",
   "execution_count": 43,
   "id": "0df7055b-7fdf-46ff-b097-85e3d721f0cd",
   "metadata": {},
   "outputs": [
    {
     "name": "stdout",
     "output_type": "stream",
     "text": [
      "29.7\n",
      "<class 'float'>\n"
     ]
    }
   ],
   "source": [
    "a=6.6\n",
    "b=4.5\n",
    "c=a*b\n",
    "print(c)\n",
    "print(type(c))"
   ]
  },
  {
   "cell_type": "code",
   "execution_count": 45,
   "id": "bac23185-8ba0-4cfa-a0eb-0df049ded8f7",
   "metadata": {},
   "outputs": [
    {
     "name": "stdout",
     "output_type": "stream",
     "text": [
      "1.125\n",
      "<class 'float'>\n"
     ]
    }
   ],
   "source": [
    "a=6.3\n",
    "b=5.6\n",
    "c=a/b\n",
    "print(c)\n",
    "print(type(c))"
   ]
  },
  {
   "cell_type": "code",
   "execution_count": 49,
   "id": "18db36ad-9443-4489-94db-eaa3a6f3e5a7",
   "metadata": {},
   "outputs": [
    {
     "name": "stdout",
     "output_type": "stream",
     "text": [
      "<class 'complex'>\n"
     ]
    }
   ],
   "source": [
    "#complex\n",
    "a=2+0j\n",
    "print(type(a))"
   ]
  },
  {
   "cell_type": "code",
   "execution_count": 53,
   "id": "741367b0-a73f-4c7b-87ea-16181e1314a0",
   "metadata": {},
   "outputs": [
    {
     "name": "stdout",
     "output_type": "stream",
     "text": [
      "<class 'complex'>\n"
     ]
    }
   ],
   "source": [
    "b=89-8j\n",
    "print(type(b))"
   ]
  },
  {
   "cell_type": "code",
   "execution_count": 61,
   "id": "f5f0c1ba-fe48-4de2-badb-a9a4e23aaae3",
   "metadata": {},
   "outputs": [
    {
     "name": "stdout",
     "output_type": "stream",
     "text": [
      "<class 'complex'>\n"
     ]
    }
   ],
   "source": [
    "c=8+9j\n",
    "print(type(c))"
   ]
  },
  {
   "cell_type": "code",
   "execution_count": 63,
   "id": "923dac71-d9e6-4b05-b979-a502e09596ad",
   "metadata": {},
   "outputs": [
    {
     "name": "stdout",
     "output_type": "stream",
     "text": [
      "(17+15j)\n",
      "<class 'complex'>\n"
     ]
    }
   ],
   "source": [
    "a=8+6j\n",
    "b=9+9j\n",
    "c=a+b\n",
    "print(c)\n",
    "print(type(c))"
   ]
  },
  {
   "cell_type": "code",
   "execution_count": 67,
   "id": "c26315e6-abfd-40a8-a2e1-ac7e4a1d49b1",
   "metadata": {},
   "outputs": [
    {
     "name": "stdout",
     "output_type": "stream",
     "text": [
      "(12-5j)\n",
      "<class 'complex'>\n"
     ]
    }
   ],
   "source": [
    "a=6+4j\n",
    "b=6-9j\n",
    "c=a+b\n",
    "print(c)\n",
    "print(type(c))"
   ]
  },
  {
   "cell_type": "code",
   "execution_count": 69,
   "id": "c7dc4610-9736-4e59-89cc-dc4faf083bbc",
   "metadata": {},
   "outputs": [
    {
     "name": "stdout",
     "output_type": "stream",
     "text": [
      "(98+3j)\n",
      "<class 'complex'>\n"
     ]
    }
   ],
   "source": [
    "a=3+8j\n",
    "b=95-5j\n",
    "c=a+b\n",
    "print(c)\n",
    "print(type(c))"
   ]
  },
  {
   "cell_type": "code",
   "execution_count": 71,
   "id": "87864745-cb0c-4346-a72a-9aa1805f05bb",
   "metadata": {},
   "outputs": [
    {
     "name": "stdout",
     "output_type": "stream",
     "text": [
      "<class 'complex'>\n"
     ]
    }
   ],
   "source": [
    "a=8*9j\n",
    "print(type(a))"
   ]
  },
  {
   "cell_type": "code",
   "execution_count": 73,
   "id": "44236897-4072-42b6-85fd-8b0c32bf79c1",
   "metadata": {},
   "outputs": [
    {
     "name": "stdout",
     "output_type": "stream",
     "text": [
      "829j\n",
      "<class 'complex'>\n"
     ]
    }
   ],
   "source": [
    "a=8*8j\n",
    "b=9*85j\n",
    "c=a+b\n",
    "print(c)\n",
    "print(type(c))"
   ]
  },
  {
   "cell_type": "code",
   "execution_count": 75,
   "id": "af1717e7-ebb0-4da4-8fc3-711e1d789599",
   "metadata": {},
   "outputs": [
    {
     "name": "stdout",
     "output_type": "stream",
     "text": [
      "128j\n",
      "<class 'complex'>\n"
     ]
    }
   ],
   "source": [
    "a=8*8j\n",
    "b=8*8j\n",
    "c=a+b\n",
    "print(c)\n",
    "print(type(c))\n"
   ]
  },
  {
   "cell_type": "code",
   "execution_count": 83,
   "id": "0577bf99-788d-4480-8b48-6ab1220ee894",
   "metadata": {},
   "outputs": [
    {
     "name": "stdout",
     "output_type": "stream",
     "text": [
      "(1.25-0j)\n",
      "<class 'complex'>\n"
     ]
    }
   ],
   "source": [
    "a=25/5j\n",
    "b=20/5j\n",
    "c=a/b\n",
    "print(c)\n",
    "print(type(c))"
   ]
  },
  {
   "cell_type": "code",
   "execution_count": 87,
   "id": "39dc8cc8-6d96-4b78-b0f0-f67c41ad123f",
   "metadata": {},
   "outputs": [
    {
     "name": "stdout",
     "output_type": "stream",
     "text": [
      "<class 'int'>\n",
      "5.0\n",
      "<class 'float'>\n"
     ]
    }
   ],
   "source": [
    "#int to float\n",
    "a=5\n",
    "print(type(a))\n",
    "b=float(a)\n",
    "print(b)\n",
    "print(type(b))\n",
    "\n"
   ]
  },
  {
   "cell_type": "code",
   "execution_count": 95,
   "id": "bc510ded-dd87-48bb-84d8-7648ffad5cd0",
   "metadata": {},
   "outputs": [
    {
     "name": "stdout",
     "output_type": "stream",
     "text": [
      "17\n",
      "17.0\n",
      "<class 'float'>\n"
     ]
    }
   ],
   "source": [
    "a=8\n",
    "b=9\n",
    "c=a+b\n",
    "print(c)\n",
    "d=float(c)\n",
    "print(d)\n",
    "print(type(d))"
   ]
  },
  {
   "cell_type": "code",
   "execution_count": 99,
   "id": "5b0f4a86-af8a-48d1-b39c-05735ed690a4",
   "metadata": {},
   "outputs": [
    {
     "name": "stdout",
     "output_type": "stream",
     "text": [
      "-2.0\n",
      "<class 'float'>\n"
     ]
    }
   ],
   "source": [
    "a=6\n",
    "b=8\n",
    "c=a-b\n",
    "d=float(c)\n",
    "print(d)\n",
    "print(type(d))"
   ]
  },
  {
   "cell_type": "code",
   "execution_count": 103,
   "id": "c89ba53d-7124-4fa6-aba2-f92df84ab1c9",
   "metadata": {},
   "outputs": [
    {
     "name": "stdout",
     "output_type": "stream",
     "text": [
      "5632.0\n",
      "<class 'float'>\n"
     ]
    }
   ],
   "source": [
    "a=64\n",
    "b=88\n",
    "c=a*b\n",
    "d=float(c)\n",
    "print(d)\n",
    "print(type(d))"
   ]
  },
  {
   "cell_type": "code",
   "execution_count": 109,
   "id": "57992b02-29a7-4c7d-8ea6-21d51c55b920",
   "metadata": {},
   "outputs": [
    {
     "name": "stdout",
     "output_type": "stream",
     "text": [
      "5.0\n",
      "<class 'float'>\n"
     ]
    }
   ],
   "source": [
    "a = 10 \n",
    "b = 2 \n",
    "c = a / b\n",
    "print(float(c))\n",
    "print(type(c))"
   ]
  },
  {
   "cell_type": "code",
   "execution_count": 111,
   "id": "444c1597-19ca-4395-8e26-92c13e220ebe",
   "metadata": {},
   "outputs": [
    {
     "name": "stdout",
     "output_type": "stream",
     "text": [
      "5\n",
      "<class 'int'>\n"
     ]
    }
   ],
   "source": [
    "#float to int\n",
    "a=5.6\n",
    "b=int(a)\n",
    "print(b)\n",
    "print(type(b))"
   ]
  },
  {
   "cell_type": "code",
   "execution_count": 113,
   "id": "b0f2c45a-05e3-4f42-896e-6bec79b25ef1",
   "metadata": {},
   "outputs": [
    {
     "name": "stdout",
     "output_type": "stream",
     "text": [
      "56\n",
      "<class 'int'>\n"
     ]
    }
   ],
   "source": [
    "a=56.5\n",
    "b=int(a)\n",
    "print(b)\n",
    "print(type(b))"
   ]
  },
  {
   "cell_type": "code",
   "execution_count": 115,
   "id": "7104e9d6-5516-4a53-b18c-b27a5c5734f4",
   "metadata": {},
   "outputs": [
    {
     "name": "stdout",
     "output_type": "stream",
     "text": [
      "-1\n",
      "<class 'int'>\n"
     ]
    }
   ],
   "source": [
    "a=8\n",
    "b=9\n",
    "c=a-b\n",
    "c=int(c)\n",
    "print(c)\n",
    "print(type(c))"
   ]
  },
  {
   "cell_type": "code",
   "execution_count": 117,
   "id": "4e1fc621-38ca-45f0-b4b1-36ae6e1e89e8",
   "metadata": {},
   "outputs": [
    {
     "name": "stdout",
     "output_type": "stream",
     "text": [
      "1\n",
      "<class 'int'>\n"
     ]
    }
   ],
   "source": [
    "a=6\n",
    "b=6\n",
    "c=a/b\n",
    "c=int(c)\n",
    "print(c)\n",
    "print(type(c))"
   ]
  },
  {
   "cell_type": "code",
   "execution_count": 119,
   "id": "a1f7776a-1b61-42cc-8050-b164ceed5be0",
   "metadata": {},
   "outputs": [
    {
     "name": "stdout",
     "output_type": "stream",
     "text": [
      "9\n",
      "<class 'int'>\n"
     ]
    }
   ],
   "source": [
    "a=3\n",
    "b=3\n",
    "c=a*b\n",
    "c=int(c)\n",
    "print(c)\n",
    "print(type(a))"
   ]
  },
  {
   "cell_type": "code",
   "execution_count": 121,
   "id": "9d6bee5b-5e82-497c-8ab8-63446321f640",
   "metadata": {},
   "outputs": [
    {
     "ename": "TypeError",
     "evalue": "int() argument must be a string, a bytes-like object or a real number, not 'complex'",
     "output_type": "error",
     "traceback": [
      "\u001b[1;31m---------------------------------------------------------------------------\u001b[0m",
      "\u001b[1;31mTypeError\u001b[0m                                 Traceback (most recent call last)",
      "Cell \u001b[1;32mIn[121], line 3\u001b[0m\n\u001b[0;32m      1\u001b[0m \u001b[38;5;66;03m#complex to int\u001b[39;00m\n\u001b[0;32m      2\u001b[0m a\u001b[38;5;241m=\u001b[39m\u001b[38;5;241m4\u001b[39m\u001b[38;5;241m+\u001b[39m\u001b[38;5;241m0\u001b[39mj\n\u001b[1;32m----> 3\u001b[0m a\u001b[38;5;241m=\u001b[39m\u001b[38;5;28mint\u001b[39m(a)\n",
      "\u001b[1;31mTypeError\u001b[0m: int() argument must be a string, a bytes-like object or a real number, not 'complex'"
     ]
    }
   ],
   "source": [
    "#complex to int\n",
    "a=4+0j\n",
    "a=int(a)"
   ]
  },
  {
   "cell_type": "code",
   "execution_count": 123,
   "id": "59eb55e5-12ed-4d87-b786-9ea667389558",
   "metadata": {},
   "outputs": [
    {
     "ename": "TypeError",
     "evalue": "float() argument must be a string or a real number, not 'complex'",
     "output_type": "error",
     "traceback": [
      "\u001b[1;31m---------------------------------------------------------------------------\u001b[0m",
      "\u001b[1;31mTypeError\u001b[0m                                 Traceback (most recent call last)",
      "Cell \u001b[1;32mIn[123], line 3\u001b[0m\n\u001b[0;32m      1\u001b[0m \u001b[38;5;66;03m#complex to float\u001b[39;00m\n\u001b[0;32m      2\u001b[0m a\u001b[38;5;241m=\u001b[39m\u001b[38;5;241m8\u001b[39m\u001b[38;5;241m+\u001b[39m\u001b[38;5;241m5\u001b[39mj\n\u001b[1;32m----> 3\u001b[0m a\u001b[38;5;241m=\u001b[39m\u001b[38;5;28mfloat\u001b[39m(a)\n",
      "\u001b[1;31mTypeError\u001b[0m: float() argument must be a string or a real number, not 'complex'"
     ]
    }
   ],
   "source": [
    "#complex to float\n",
    "a=8+5j\n",
    "a=float(a)"
   ]
  },
  {
   "cell_type": "code",
   "execution_count": 1,
   "id": "b47cd3e1-d746-4808-bf14-340bb37a272b",
   "metadata": {},
   "outputs": [
    {
     "name": "stdout",
     "output_type": "stream",
     "text": [
      "16309\n"
     ]
    }
   ],
   "source": [
    "#addition\n",
    "naveen =9866\n",
    "ram=1999\n",
    "abhi=4444\n",
    "a=(naveen+ram+abhi)\n",
    "print(a)"
   ]
  },
  {
   "cell_type": "code",
   "execution_count": 5,
   "id": "8d8099b2-00e9-44aa-ab92-7dab7e6ea5a5",
   "metadata": {},
   "outputs": [
    {
     "name": "stdout",
     "output_type": "stream",
     "text": [
      "3423\n"
     ]
    }
   ],
   "source": [
    "#subtraction\n",
    "a=(naveen-ram-abhi)\n",
    "print(a)"
   ]
  },
  {
   "cell_type": "code",
   "execution_count": 11,
   "id": "8a64f68d-63aa-4ed5-9c05-e50978179de4",
   "metadata": {},
   "outputs": [
    {
     "name": "stdout",
     "output_type": "stream",
     "text": [
      "87645163496\n"
     ]
    }
   ],
   "source": [
    "#mulitiplication\n",
    "a=naveen*ram*abhi\n",
    "print(a)"
   ]
  },
  {
   "cell_type": "code",
   "execution_count": 13,
   "id": "2ea616b6-0578-4835-92e3-43e54d9cbeab",
   "metadata": {},
   "outputs": [
    {
     "name": "stdout",
     "output_type": "stream",
     "text": [
      "0.001110591299249985\n"
     ]
    }
   ],
   "source": [
    "#division\n",
    "a=naveen/ram/abhi\n",
    "print(a)"
   ]
  },
  {
   "cell_type": "code",
   "execution_count": 15,
   "id": "32ca9cd8-a28c-4851-84e3-219f136a911e",
   "metadata": {},
   "outputs": [
    {
     "name": "stdout",
     "output_type": "stream",
     "text": [
      "0\n"
     ]
    }
   ],
   "source": [
    "#float/divsior\n",
    "a=naveen//ram//abhi\n",
    "print(a)"
   ]
  },
  {
   "cell_type": "code",
   "execution_count": 17,
   "id": "b82ba0f3-e199-4e99-83d4-43b548197b48",
   "metadata": {},
   "outputs": [
    {
     "name": "stdout",
     "output_type": "stream",
     "text": [
      "1870\n"
     ]
    }
   ],
   "source": [
    "#moules\n",
    "a=naveen%ram%abhi\n",
    "print(a)"
   ]
  },
  {
   "cell_type": "code",
   "execution_count": null,
   "id": "bb0d71e8-5113-434b-a3db-4837db8d12b0",
   "metadata": {},
   "outputs": [],
   "source": [
    "#exponential\n",
    "a=naveen**ram\n",
    "print(a)"
   ]
  },
  {
   "cell_type": "code",
   "execution_count": 16,
   "id": "a27fb898-8fa6-43c2-8698-94e4b0036eb3",
   "metadata": {},
   "outputs": [
    {
     "ename": "NameError",
     "evalue": "name 'naveen' is not defined",
     "output_type": "error",
     "traceback": [
      "\u001b[1;31m---------------------------------------------------------------------------\u001b[0m",
      "\u001b[1;31mNameError\u001b[0m                                 Traceback (most recent call last)",
      "Cell \u001b[1;32mIn[16], line 2\u001b[0m\n\u001b[0;32m      1\u001b[0m \u001b[38;5;66;03m#assignment operaters\u001b[39;00m\n\u001b[1;32m----> 2\u001b[0m naveen\u001b[38;5;241m+\u001b[39m\u001b[38;5;241m=\u001b[39mram\n\u001b[0;32m      3\u001b[0m naveen\n",
      "\u001b[1;31mNameError\u001b[0m: name 'naveen' is not defined"
     ]
    }
   ],
   "source": [
    "#assignment operaters\n",
    "naveen+=ram\n",
    "naveen\n"
   ]
  },
  {
   "cell_type": "code",
   "execution_count": 18,
   "id": "abf60121-c019-49fc-a598-ca952da38246",
   "metadata": {},
   "outputs": [
    {
     "data": {
      "text/plain": [
       "11865"
      ]
     },
     "execution_count": 18,
     "metadata": {},
     "output_type": "execute_result"
    }
   ],
   "source": [
    "naveen =9866\n",
    "ram=1999\n",
    "naveen+=ram\n",
    "naveen"
   ]
  },
  {
   "cell_type": "code",
   "execution_count": null,
   "id": "162fae3a-6416-442f-b499-b879f548acf7",
   "metadata": {},
   "outputs": [],
   "source": []
  }
 ],
 "metadata": {
  "kernelspec": {
   "display_name": "Python 3 (ipykernel)",
   "language": "python",
   "name": "python3"
  },
  "language_info": {
   "codemirror_mode": {
    "name": "ipython",
    "version": 3
   },
   "file_extension": ".py",
   "mimetype": "text/x-python",
   "name": "python",
   "nbconvert_exporter": "python",
   "pygments_lexer": "ipython3",
   "version": "3.12.7"
  }
 },
 "nbformat": 4,
 "nbformat_minor": 5
}
