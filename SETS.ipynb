{
 "cells": [
  {
   "cell_type": "markdown",
   "id": "7c41643a-ec94-4199-9c20-a6acdd97586c",
   "metadata": {},
   "source": [
    "In Python, a set is an unordered collection of unique elements. It is similar to a list or a dictionary, but with some key differences:\n",
    "\n",
    "Key Characteristics of a Set:\n",
    "Unordered: The elements in a set do not have a specific order. When you iterate through a set, the order of elements can vary.\n",
    "\n",
    "Unique elements: Sets do not allow duplicate elements. If you attempt to add an element that already exists in the set, it won't be added again.\n",
    "\n",
    "Mutable: You can add or remove elements from a set after it is created, but you cannot modify individual elements once they are in the set.\n",
    "\n",
    "No Indexing: Since sets are unordered, you cannot access elements using an index like in lists or tuples.\n",
    "\n",
    "\n",
    "Basic Syntax:\n",
    "To create a set, you can use curly braces {}"
   ]
  },
  {
   "cell_type": "markdown",
   "id": "14158f9d-6982-47d1-a340-183a6aa1589b",
   "metadata": {},
   "source": [
    "EXAMPLES\n",
    "\n",
    "a={'apple','mango','orange'}\n",
    "ram={1,2,3,4,1,2,5}\n",
    "sai={'a','b','c','d',1,2,3}\n",
    "ab={'ram','sai','rao',44,55,66}\n",
    "f={2122,33333,455555,77778,7777}\n",
    "g={'boll','bat','dog','a','d','g'}\n",
    "m={'f2','f1','f4','f3'}\n",
    "anji={88,22,99,33,55,88,22}\n",
    "ravi={'pakodi','bajji','cake','bakery'}\n",
    "clg={'src','sves','vv','surya','triveni'}"
   ]
  },
  {
   "cell_type": "code",
   "execution_count": null,
   "id": "bac34e88-7425-4fc3-bcbc-867fdf6bf629",
   "metadata": {},
   "outputs": [],
   "source": [
    "REMOVOING AN ELEMENT"
   ]
  },
  {
   "cell_type": "code",
   "execution_count": 1,
   "id": "3643f3d2-777e-4b84-b453-373183a07a28",
   "metadata": {},
   "outputs": [
    {
     "name": "stdout",
     "output_type": "stream",
     "text": [
      "<class 'set'>\n",
      "{1, 2, 3, 4, 5}\n"
     ]
    }
   ],
   "source": [
    "ram={1,2,3,4,1,2,5}\n",
    "print(type(ram))\n",
    "print(ram)"
   ]
  },
  {
   "cell_type": "code",
   "execution_count": null,
   "id": "160211c2-0545-4727-9009-cec3722a6f57",
   "metadata": {},
   "outputs": [],
   "source": [
    "ADD ITEMS"
   ]
  },
  {
   "cell_type": "code",
   "execution_count": 7,
   "id": "4d4120d5-1828-436c-972e-e395b002e000",
   "metadata": {},
   "outputs": [
    {
     "name": "stdout",
     "output_type": "stream",
     "text": [
      "{'ram', 1, 2, 3, 'vamsi', 'sai'}\n"
     ]
    }
   ],
   "source": [
    "a={1,2,3,'sai','ram'}\n",
    "type(a)\n",
    "a.add('vamsi')\n",
    "print(a)"
   ]
  },
  {
   "cell_type": "code",
   "execution_count": 9,
   "id": "ae22afb5-4503-4a10-a18a-88bf3ffb68f1",
   "metadata": {},
   "outputs": [
    {
     "data": {
      "text/plain": [
       "{(64+8j), 1, 2, 3, 'ram', 'sai', 'vamsi'}"
      ]
     },
     "execution_count": 9,
     "metadata": {},
     "output_type": "execute_result"
    }
   ],
   "source": [
    "a.add(64+8j)\n",
    "a"
   ]
  },
  {
   "cell_type": "code",
   "execution_count": 11,
   "id": "db512a7b-ccfd-444a-9911-58ebe83a7e9f",
   "metadata": {},
   "outputs": [
    {
     "data": {
      "text/plain": [
       "{(64+8j), 1, 2, 3, 65.5, 'ram', 'sai', 'vamsi'}"
      ]
     },
     "execution_count": 11,
     "metadata": {},
     "output_type": "execute_result"
    }
   ],
   "source": [
    "a.add(65.5)\n",
    "a"
   ]
  },
  {
   "cell_type": "code",
   "execution_count": 13,
   "id": "bb17b479-8cd6-4731-8ace-7e6447064821",
   "metadata": {},
   "outputs": [
    {
     "data": {
      "text/plain": [
       "{(64+8j), 1, 2, 3, 65.5, 96, 'ram', 'sai', 'vamsi'}"
      ]
     },
     "execution_count": 13,
     "metadata": {},
     "output_type": "execute_result"
    }
   ],
   "source": [
    "a.add(96)\n",
    "a"
   ]
  },
  {
   "cell_type": "code",
   "execution_count": 15,
   "id": "8c07b172-a564-4fa7-8727-fb3954250672",
   "metadata": {},
   "outputs": [
    {
     "ename": "TypeError",
     "evalue": "set.add() takes exactly one argument (2 given)",
     "output_type": "error",
     "traceback": [
      "\u001b[1;31m---------------------------------------------------------------------------\u001b[0m",
      "\u001b[1;31mTypeError\u001b[0m                                 Traceback (most recent call last)",
      "Cell \u001b[1;32mIn[15], line 1\u001b[0m\n\u001b[1;32m----> 1\u001b[0m a\u001b[38;5;241m.\u001b[39madd(\u001b[38;5;241m36\u001b[39m,\u001b[38;5;241m56\u001b[39m)\n\u001b[0;32m      2\u001b[0m a\n",
      "\u001b[1;31mTypeError\u001b[0m: set.add() takes exactly one argument (2 given)"
     ]
    }
   ],
   "source": [
    "a.add(36,56)\n",
    "a"
   ]
  },
  {
   "cell_type": "code",
   "execution_count": 21,
   "id": "4984909d-bb97-4589-8fe6-a12501b15784",
   "metadata": {},
   "outputs": [
    {
     "data": {
      "text/plain": [
       "{(64+8j), 1, 2, 3, 65.5, 96, 'apple', 'bananana', 'ram', 'sai', 'vamsi'}"
      ]
     },
     "execution_count": 21,
     "metadata": {},
     "output_type": "execute_result"
    }
   ],
   "source": [
    "#updated set\n",
    "a\n",
    "b={'apple','bananana'}\n",
    "a.update(b)\n",
    "a"
   ]
  },
  {
   "cell_type": "code",
   "execution_count": 27,
   "id": "90122895-82cd-4546-a34d-fb79ad8718db",
   "metadata": {},
   "outputs": [
    {
     "data": {
      "text/plain": [
       "{(64+8j),\n",
       " 1,\n",
       " 2,\n",
       " 3,\n",
       " 65.5,\n",
       " 7,\n",
       " 85.6,\n",
       " 96,\n",
       " 'apple',\n",
       " 'bananana',\n",
       " 'kova',\n",
       " 'ram',\n",
       " 'sai',\n",
       " 'vamsi'}"
      ]
     },
     "execution_count": 27,
     "metadata": {},
     "output_type": "execute_result"
    }
   ],
   "source": [
    "b={'kova',85.6,7}\n",
    "a.update(b)\n",
    "a"
   ]
  },
  {
   "cell_type": "code",
   "execution_count": 29,
   "id": "d2c56815-a1cd-4cc8-b2b5-3cca13358e73",
   "metadata": {},
   "outputs": [
    {
     "data": {
      "text/plain": [
       "{(64+8j),\n",
       " 1,\n",
       " 2,\n",
       " 3,\n",
       " 65.5,\n",
       " 7,\n",
       " 85.6,\n",
       " 96,\n",
       " 'apple',\n",
       " 'bananana',\n",
       " 'kova',\n",
       " 'ram',\n",
       " 'sai',\n",
       " 'vamsi'}"
      ]
     },
     "execution_count": 29,
     "metadata": {},
     "output_type": "execute_result"
    }
   ],
   "source": [
    "b={'kova',64+8j,85.6,7}\n",
    "a.update(b)\n",
    "a"
   ]
  },
  {
   "cell_type": "code",
   "execution_count": 33,
   "id": "170fb7a4-0a6a-4777-9ca2-4d62083dd426",
   "metadata": {},
   "outputs": [
    {
     "data": {
      "text/plain": [
       "{(64+8j),\n",
       " 1,\n",
       " 2,\n",
       " 3,\n",
       " 65.5,\n",
       " 7,\n",
       " 85.6,\n",
       " 96,\n",
       " 'apple',\n",
       " 'bananana',\n",
       " 'ram',\n",
       " 'sai',\n",
       " 'vamsi'}"
      ]
     },
     "execution_count": 33,
     "metadata": {},
     "output_type": "execute_result"
    }
   ],
   "source": [
    "#removing an elements\n",
    "#discard\n",
    "a\n",
    "a.remove('kova')\n",
    "a"
   ]
  },
  {
   "cell_type": "code",
   "execution_count": 39,
   "id": "5181d23d-feec-4ac8-b6af-a9aaa05cb2da",
   "metadata": {},
   "outputs": [
    {
     "data": {
      "text/plain": [
       "{(64+8j), 1, 2, 3, 65.5, 7, 85.6, 96, 'apple', 'ram', 'sai', 'vamsi'}"
      ]
     },
     "execution_count": 39,
     "metadata": {},
     "output_type": "execute_result"
    }
   ],
   "source": [
    "a.discard('bananana')\n",
    "a"
   ]
  },
  {
   "cell_type": "code",
   "execution_count": 41,
   "id": "2ee53187-ebc9-4d7b-a8f2-23a94168e090",
   "metadata": {},
   "outputs": [
    {
     "data": {
      "text/plain": [
       "{1, 2, 3, 65.5, 7, 85.6, 96, 'apple', 'ram', 'sai', 'vamsi'}"
      ]
     },
     "execution_count": 41,
     "metadata": {},
     "output_type": "execute_result"
    }
   ],
   "source": [
    "a.remove(64+8j)\n",
    "a"
   ]
  },
  {
   "cell_type": "code",
   "execution_count": 43,
   "id": "e2ddad70-f0e7-44f3-86c9-c82531c95bed",
   "metadata": {},
   "outputs": [
    {
     "data": {
      "text/plain": [
       "{1, 2, 3, 65.5, 7, 85.6, 96, 'vamsi'}"
      ]
     },
     "execution_count": 43,
     "metadata": {},
     "output_type": "execute_result"
    }
   ],
   "source": [
    "a.remove('apple')\n",
    "a.remove('ram')\n",
    "a.remove('sai')\n",
    "a"
   ]
  },
  {
   "cell_type": "code",
   "execution_count": 51,
   "id": "9050d36f-19d8-4542-ab58-07fbb4cf8411",
   "metadata": {},
   "outputs": [
    {
     "name": "stdout",
     "output_type": "stream",
     "text": [
      "final set {1, 2, 3, 7, 'vamsi', 96}\n"
     ]
    }
   ],
   "source": [
    "a.discard(65.5)\n",
    "a.discard(85.6)\n",
    "print('final set',a)"
   ]
  },
  {
   "cell_type": "markdown",
   "id": "e49eed6b-0c38-4254-8dc0-435a1fcf32f5",
   "metadata": {},
   "source": [
    "operations in set\n",
    "UNION"
   ]
  },
  {
   "cell_type": "code",
   "execution_count": 53,
   "id": "23130e17-2864-4a5b-a1ae-7324605ab5c2",
   "metadata": {},
   "outputs": [
    {
     "data": {
      "text/plain": [
       "{1, 2, 3, 4, 5, 6, 7, 8, 9}"
      ]
     },
     "execution_count": 53,
     "metadata": {},
     "output_type": "execute_result"
    }
   ],
   "source": [
    "a={1,2,3,4,5,6}\n",
    "b={4,5,6,7,8,9}\n",
    "a|b#union\n"
   ]
  },
  {
   "cell_type": "code",
   "execution_count": 55,
   "id": "2c87e219-d805-433e-ba61-6f2b4973c72a",
   "metadata": {},
   "outputs": [
    {
     "data": {
      "text/plain": [
       "{1.2, 1.4, 1.6, 1.8, 2.0, 2.2, 2.4}"
      ]
     },
     "execution_count": 55,
     "metadata": {},
     "output_type": "execute_result"
    }
   ],
   "source": [
    "a={1.2,1.4,1.6,1.8,2.0}\n",
    "b={1.6,1.8,2.0,2.2,2.4}\n",
    "a|b"
   ]
  },
  {
   "cell_type": "code",
   "execution_count": 57,
   "id": "3ebfe691-d767-412f-9737-31a979597311",
   "metadata": {},
   "outputs": [
    {
     "data": {
      "text/plain": [
       "{'a', 'b', 'c', 'd', 'e', 'f', 'g'}"
      ]
     },
     "execution_count": 57,
     "metadata": {},
     "output_type": "execute_result"
    }
   ],
   "source": [
    "a={'a','b','c','d','e'}\n",
    "b={'c','d','e','f','g'}\n",
    "a|b"
   ]
  },
  {
   "cell_type": "code",
   "execution_count": 59,
   "id": "629cc571-2663-438f-a9ce-83cfa08adaae",
   "metadata": {},
   "outputs": [
    {
     "data": {
      "text/plain": [
       "{'apple', 'ball', 'cat', 'dog', 'egg', 'goat'}"
      ]
     },
     "execution_count": 59,
     "metadata": {},
     "output_type": "execute_result"
    }
   ],
   "source": [
    "a={'apple','ball','cat','dog'}\n",
    "b={'cat','dog','egg','goat'}\n",
    "a|b"
   ]
  },
  {
   "cell_type": "code",
   "execution_count": null,
   "id": "75cb5d74-2457-4eb2-bdef-466cc0ab069e",
   "metadata": {},
   "outputs": [],
   "source": [
    "INTERSECTION\n"
   ]
  },
  {
   "cell_type": "code",
   "execution_count": 63,
   "id": "74eb741a-fbad-4c73-961d-2389713f3c8e",
   "metadata": {},
   "outputs": [
    {
     "data": {
      "text/plain": [
       "{4, 5, 6}"
      ]
     },
     "execution_count": 63,
     "metadata": {},
     "output_type": "execute_result"
    }
   ],
   "source": [
    "a={1,2,3,4,5,6}\n",
    "b={4,5,6,7,8,9}\n",
    "a&b"
   ]
  },
  {
   "cell_type": "code",
   "execution_count": 65,
   "id": "ce119cff-b705-45e7-9303-2a416884a045",
   "metadata": {},
   "outputs": [
    {
     "data": {
      "text/plain": [
       "{1.6, 1.8, 2.0}"
      ]
     },
     "execution_count": 65,
     "metadata": {},
     "output_type": "execute_result"
    }
   ],
   "source": [
    "a={1.2,1.4,1.6,1.8,2.0}\n",
    "b={1.6,1.8,2.0,2.2,2.4}\n",
    "a&b"
   ]
  },
  {
   "cell_type": "code",
   "execution_count": 67,
   "id": "8bd3c2b9-602e-4974-8157-99612674d8dc",
   "metadata": {},
   "outputs": [
    {
     "data": {
      "text/plain": [
       "{'c', 'd', 'e'}"
      ]
     },
     "execution_count": 67,
     "metadata": {},
     "output_type": "execute_result"
    }
   ],
   "source": [
    "a={'a','b','c','d','e'}\n",
    "b={'c','d','e','f','g'}\n",
    "a&b"
   ]
  },
  {
   "cell_type": "code",
   "execution_count": 69,
   "id": "e4480963-56ab-4625-b49e-bc202263ea1d",
   "metadata": {},
   "outputs": [
    {
     "data": {
      "text/plain": [
       "{'cat', 'dog'}"
      ]
     },
     "execution_count": 69,
     "metadata": {},
     "output_type": "execute_result"
    }
   ],
   "source": [
    "a={'apple','ball','cat','dog'}\n",
    "b={'cat','dog','egg','goat'}\n",
    "a&b"
   ]
  },
  {
   "cell_type": "markdown",
   "id": "798ec801-0838-4a36-97a8-d78e413b341c",
   "metadata": {},
   "source": [
    "diffrence"
   ]
  },
  {
   "cell_type": "code",
   "execution_count": 71,
   "id": "25d2d9b0-d2ff-4839-9012-d6f850a6967e",
   "metadata": {},
   "outputs": [
    {
     "data": {
      "text/plain": [
       "{1, 2, 3}"
      ]
     },
     "execution_count": 71,
     "metadata": {},
     "output_type": "execute_result"
    }
   ],
   "source": [
    "a={1,2,3,4,5,6}\n",
    "b={4,5,6,7,8,9}\n",
    "a-b"
   ]
  },
  {
   "cell_type": "code",
   "execution_count": 73,
   "id": "a81a4e3d-e79c-4b2c-b9a4-a3b52ab57708",
   "metadata": {},
   "outputs": [
    {
     "data": {
      "text/plain": [
       "{1.2, 1.4}"
      ]
     },
     "execution_count": 73,
     "metadata": {},
     "output_type": "execute_result"
    }
   ],
   "source": [
    "a={1.2,1.4,1.6,1.8,2.0}\n",
    "b={1.6,1.8,2.0,2.2,2.4}\n",
    "a-b"
   ]
  },
  {
   "cell_type": "code",
   "execution_count": 75,
   "id": "f68c25f7-adb8-41d1-89c8-0879fbd35bfd",
   "metadata": {},
   "outputs": [
    {
     "data": {
      "text/plain": [
       "{'a', 'b'}"
      ]
     },
     "execution_count": 75,
     "metadata": {},
     "output_type": "execute_result"
    }
   ],
   "source": [
    "a={'a','b','c','d','e'}\n",
    "b={'c','d','e','f','g'}\n",
    "a-b"
   ]
  },
  {
   "cell_type": "code",
   "execution_count": 77,
   "id": "4dbce099-0c58-46a1-b882-d2ae6671dedf",
   "metadata": {},
   "outputs": [
    {
     "data": {
      "text/plain": [
       "{'apple', 'ball'}"
      ]
     },
     "execution_count": 77,
     "metadata": {},
     "output_type": "execute_result"
    }
   ],
   "source": [
    "a={'apple','ball','cat','dog'}\n",
    "b={'cat','dog','egg','goat'}\n",
    "a-b"
   ]
  },
  {
   "cell_type": "markdown",
   "id": "c7e84d55-247c-41de-8fa7-a79e626de723",
   "metadata": {},
   "source": [
    "symentric diffrence"
   ]
  },
  {
   "cell_type": "code",
   "execution_count": 79,
   "id": "37f785e4-927e-47ac-8bb2-08fad05801c8",
   "metadata": {},
   "outputs": [
    {
     "data": {
      "text/plain": [
       "{1, 2, 3, 7, 8, 9}"
      ]
     },
     "execution_count": 79,
     "metadata": {},
     "output_type": "execute_result"
    }
   ],
   "source": [
    "a={1,2,3,4,5,6}\n",
    "b={4,5,6,7,8,9}\n",
    "a^b"
   ]
  },
  {
   "cell_type": "code",
   "execution_count": 81,
   "id": "01d028ff-6341-4008-8776-fee9f83fa4a2",
   "metadata": {},
   "outputs": [
    {
     "data": {
      "text/plain": [
       "{1.2, 1.4, 2.2, 2.4}"
      ]
     },
     "execution_count": 81,
     "metadata": {},
     "output_type": "execute_result"
    }
   ],
   "source": [
    "a={1.2,1.4,1.6,1.8,2.0}\n",
    "b={1.6,1.8,2.0,2.2,2.4}\n",
    "a^b"
   ]
  },
  {
   "cell_type": "code",
   "execution_count": 83,
   "id": "7cca8005-7e28-41d2-9a5d-444562e04f80",
   "metadata": {},
   "outputs": [
    {
     "data": {
      "text/plain": [
       "{'a', 'b', 'f', 'g'}"
      ]
     },
     "execution_count": 83,
     "metadata": {},
     "output_type": "execute_result"
    }
   ],
   "source": [
    "a={'a','b','c','d','e'}\n",
    "b={'c','d','e','f','g'}\n",
    "a^b"
   ]
  },
  {
   "cell_type": "code",
   "execution_count": 85,
   "id": "f703b906-4b38-449e-8a2c-ccc6ec90740b",
   "metadata": {},
   "outputs": [
    {
     "data": {
      "text/plain": [
       "{'apple', 'ball', 'egg', 'goat'}"
      ]
     },
     "execution_count": 85,
     "metadata": {},
     "output_type": "execute_result"
    }
   ],
   "source": [
    "a={'apple','ball','cat','dog'}\n",
    "b={'cat','dog','egg','goat'}\n",
    "a^b"
   ]
  },
  {
   "cell_type": "code",
   "execution_count": null,
   "id": "11bd5cdb-57f2-45d2-b93b-425a55e68ae3",
   "metadata": {},
   "outputs": [],
   "source": []
  }
 ],
 "metadata": {
  "kernelspec": {
   "display_name": "Python 3 (ipykernel)",
   "language": "python",
   "name": "python3"
  },
  "language_info": {
   "codemirror_mode": {
    "name": "ipython",
    "version": 3
   },
   "file_extension": ".py",
   "mimetype": "text/x-python",
   "name": "python",
   "nbconvert_exporter": "python",
   "pygments_lexer": "ipython3",
   "version": "3.12.7"
  }
 },
 "nbformat": 4,
 "nbformat_minor": 5
}
