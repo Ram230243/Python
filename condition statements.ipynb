{
 "cells": [
  {
   "cell_type": "markdown",
   "id": "b429325d-7ee6-4d60-9d28-6edc443618c6",
   "metadata": {},
   "source": [
    "name of a resturnt is ram we are serving a 5 veg items nd 5 non veg items we are not in the list we are sorry currentlythis dish is not available"
   ]
  },
  {
   "cell_type": "code",
   "execution_count": 32,
   "id": "b53214a3-b4c9-44c3-974f-4f7189814e69",
   "metadata": {},
   "outputs": [
    {
     "name": "stdout",
     "output_type": "stream",
     "text": [
      "ram dine in\n",
      "your non veg item is\n"
     ]
    }
   ],
   "source": [
    "order='chicken biryani'\n",
    "veg = ['paner masala','panner tikka','butter masala''veg dum biryani','mushrom biryani']\n",
    "nonveg = ['chicken biryani','fry biryani''punjab birayani','dilkush biryani','roast biryani']\n",
    "print('ram dine in')\n",
    "if order in veg:\n",
    "     print('your veg item')\n",
    "elif order in nonveg:\n",
    "      print('your non veg item is')\n",
    "else:\n",
    "      print('currently not available')"
   ]
  },
  {
   "cell_type": "markdown",
   "id": "b74d7e0c-c748-4357-9e70-3644182c082f",
   "metadata": {},
   "source": [
    "1.find the largest number among 3 \n",
    "2.wite a ptyhon program to check weathhr year is leapyear are not\n",
    "gradig system more than 90 a less than b'less than 50\n",
    "\n"
   ]
  },
  {
   "cell_type": "code",
   "execution_count": 13,
   "id": "c8e400db-0784-4c97-bfca-60ebdb9626ac",
   "metadata": {},
   "outputs": [
    {
     "name": "stdout",
     "output_type": "stream",
     "text": [
      "c is a largest number\n"
     ]
    }
   ],
   "source": [
    "#find the largest number in 3 numbers\n",
    "a=111\n",
    "b=222\n",
    "c=333\n",
    "if a>b and a>c:\n",
    "    print('a is a largest number')\n",
    "elif b>a and b>c:\n",
    "    print('b is a largest number')\n",
    "else:\n",
    "    print('c is a largest number')\n",
    "\n"
   ]
  },
  {
   "cell_type": "code",
   "execution_count": 25,
   "id": "e57a2dc1-d3fc-470e-85a5-7c679d3b4a2a",
   "metadata": {},
   "outputs": [
    {
     "name": "stdout",
     "output_type": "stream",
     "text": [
      "it is not a leap\n"
     ]
    }
   ],
   "source": [
    "#write a python program to check whether year is leap or not\n",
    "year=2022\n",
    "if year%4==0:\n",
    "    print(\"its leap year\")\n",
    "else:\n",
    "   print(\"it is not a leap\")"
   ]
  },
  {
   "cell_type": "code",
   "execution_count": 39,
   "id": "a949e651-7e2f-4de6-a68b-e37af02a7a96",
   "metadata": {},
   "outputs": [
    {
     "name": "stdout",
     "output_type": "stream",
     "text": [
      "d garde\n"
     ]
    }
   ],
   "source": [
    "#write a python program for grading system more than 90 marks consider a,greater than 80 b, less than 50 fail\n",
    "marks=70\n",
    "if marks>90:\n",
    "    print('a grade')\n",
    "elif marks>80:\n",
    "    print('b garde')\n",
    "elif marks>70:\n",
    "    print('c garde')\n",
    "elif marks>60:\n",
    "    print('d garde')\n",
    "elif marks>50:\n",
    "    print('e garde')\n",
    "else:\n",
    "    print('Fail')\n"
   ]
  },
  {
   "cell_type": "code",
   "execution_count": null,
   "id": "b09eea13-af88-48a8-94b1-45856b611bb4",
   "metadata": {},
   "outputs": [],
   "source": []
  }
 ],
 "metadata": {
  "kernelspec": {
   "display_name": "Python 3 (ipykernel)",
   "language": "python",
   "name": "python3"
  },
  "language_info": {
   "codemirror_mode": {
    "name": "ipython",
    "version": 3
   },
   "file_extension": ".py",
   "mimetype": "text/x-python",
   "name": "python",
   "nbconvert_exporter": "python",
   "pygments_lexer": "ipython3",
   "version": "3.12.7"
  }
 },
 "nbformat": 4,
 "nbformat_minor": 5
}
