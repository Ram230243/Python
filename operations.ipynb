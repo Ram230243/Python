{
 "cells": [
  {
   "cell_type": "code",
   "execution_count": 17,
   "id": "62254955-784e-4953-9f25-991d97e1ecfa",
   "metadata": {},
   "outputs": [
    {
     "data": {
      "text/plain": [
       "32"
      ]
     },
     "execution_count": 17,
     "metadata": {},
     "output_type": "execute_result"
    }
   ],
   "source": [
    "#AND opertor\n",
    "34&45"
   ]
  },
  {
   "cell_type": "code",
   "execution_count": 15,
   "id": "5ca23109-3c02-47cb-8c19-496bb36c7b4d",
   "metadata": {},
   "outputs": [
    {
     "data": {
      "text/plain": [
       "106"
      ]
     },
     "execution_count": 15,
     "metadata": {},
     "output_type": "execute_result"
    }
   ],
   "source": [
    "234&890"
   ]
  },
  {
   "cell_type": "code",
   "execution_count": 19,
   "id": "ad691eac-8f6b-4b0e-abe9-41656a87be6b",
   "metadata": {},
   "outputs": [
    {
     "data": {
      "text/plain": [
       "1"
      ]
     },
     "execution_count": 19,
     "metadata": {},
     "output_type": "execute_result"
    }
   ],
   "source": [
    "777&7"
   ]
  },
  {
   "cell_type": "code",
   "execution_count": 21,
   "id": "97719af8-7d7a-405d-8b4c-1aa6bddd3ffc",
   "metadata": {},
   "outputs": [
    {
     "data": {
      "text/plain": [
       "47"
      ]
     },
     "execution_count": 21,
     "metadata": {},
     "output_type": "execute_result"
    }
   ],
   "source": [
    "OR opertor\n",
    "34|45"
   ]
  },
  {
   "cell_type": "code",
   "execution_count": 23,
   "id": "da868fd1-65a5-4af6-b3fb-925c72c09e17",
   "metadata": {},
   "outputs": [
    {
     "data": {
      "text/plain": [
       "1018"
      ]
     },
     "execution_count": 23,
     "metadata": {},
     "output_type": "execute_result"
    }
   ],
   "source": [
    "234|890"
   ]
  },
  {
   "cell_type": "code",
   "execution_count": 25,
   "id": "356c83b0-2fdb-41ee-881d-b146b11c9f5e",
   "metadata": {},
   "outputs": [
    {
     "data": {
      "text/plain": [
       "783"
      ]
     },
     "execution_count": 25,
     "metadata": {},
     "output_type": "execute_result"
    }
   ],
   "source": [
    "777|7"
   ]
  },
  {
   "cell_type": "code",
   "execution_count": 27,
   "id": "0e6e4eb6-cf3c-410c-98e9-9701eeccc7f9",
   "metadata": {},
   "outputs": [
    {
     "data": {
      "text/plain": [
       "49"
      ]
     },
     "execution_count": 27,
     "metadata": {},
     "output_type": "execute_result"
    }
   ],
   "source": [
    "#xor operator\n",
    "32^17"
   ]
  },
  {
   "cell_type": "code",
   "execution_count": 29,
   "id": "0fc1ff25-12f6-4db0-9d62-6d3995fc3157",
   "metadata": {},
   "outputs": [
    {
     "data": {
      "text/plain": [
       "694"
      ]
     },
     "execution_count": 29,
     "metadata": {},
     "output_type": "execute_result"
    }
   ],
   "source": [
    "287^937"
   ]
  },
  {
   "cell_type": "code",
   "execution_count": 31,
   "id": "d16cb0cb-f002-4955-99a6-29daf74d33e9",
   "metadata": {},
   "outputs": [
    {
     "data": {
      "text/plain": [
       "360"
      ]
     },
     "execution_count": 31,
     "metadata": {},
     "output_type": "execute_result"
    }
   ],
   "source": [
    "#Left shift\n",
    "45<<3"
   ]
  },
  {
   "cell_type": "code",
   "execution_count": 33,
   "id": "b7045a19-0c44-42e4-97c7-c28af95b9c4d",
   "metadata": {},
   "outputs": [
    {
     "data": {
      "text/plain": [
       "1144"
      ]
     },
     "execution_count": 33,
     "metadata": {},
     "output_type": "execute_result"
    }
   ],
   "source": [
    "143<<3"
   ]
  },
  {
   "cell_type": "code",
   "execution_count": 35,
   "id": "0e4fd113-5805-45ae-9c5a-d9a439b8a3ac",
   "metadata": {},
   "outputs": [
    {
     "data": {
      "text/plain": [
       "105"
      ]
     },
     "execution_count": 35,
     "metadata": {},
     "output_type": "execute_result"
    }
   ],
   "source": [
    "#Right shift\n",
    "420>>2"
   ]
  },
  {
   "cell_type": "code",
   "execution_count": 37,
   "id": "e43b0be7-6ac2-4754-9c50-4c3a9d3e5fd4",
   "metadata": {},
   "outputs": [
    {
     "data": {
      "text/plain": [
       "48"
      ]
     },
     "execution_count": 37,
     "metadata": {},
     "output_type": "execute_result"
    }
   ],
   "source": [
    "777>>4"
   ]
  },
  {
   "cell_type": "code",
   "execution_count": null,
   "id": "7cefbfe1-80e9-418a-a185-ec4d7d32edfa",
   "metadata": {},
   "outputs": [],
   "source": []
  }
 ],
 "metadata": {
  "kernelspec": {
   "display_name": "Python 3 (ipykernel)",
   "language": "python",
   "name": "python3"
  },
  "language_info": {
   "codemirror_mode": {
    "name": "ipython",
    "version": 3
   },
   "file_extension": ".py",
   "mimetype": "text/x-python",
   "name": "python",
   "nbconvert_exporter": "python",
   "pygments_lexer": "ipython3",
   "version": "3.12.7"
  }
 },
 "nbformat": 4,
 "nbformat_minor": 5
}
